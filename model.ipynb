{
 "cells": [
  {
   "metadata": {},
   "cell_type": "markdown",
   "source": "https://stackoverflow.com/questions/50544730/how-do-i-split-a-custom-dataset-into-training-and-test-datasets",
   "id": "8d2a500d5595f9b5"
  },
  {
   "cell_type": "code",
   "id": "initial_id",
   "metadata": {
    "collapsed": true,
    "ExecuteTime": {
     "end_time": "2025-09-23T18:05:55.597159Z",
     "start_time": "2025-09-23T18:05:55.595794Z"
    }
   },
   "source": "#Use depthwise separable convolutions, linear bottlenecks, and inverted residuals to build a MobileNetV2 model for image classification on the dataset using Pytorch.",
   "outputs": [],
   "execution_count": 1
  },
  {
   "metadata": {
    "ExecuteTime": {
     "end_time": "2025-09-23T18:05:56.863091Z",
     "start_time": "2025-09-23T18:05:55.598869Z"
    }
   },
   "cell_type": "code",
   "source": [
    "import os\n",
    "\n",
    "import pandas as pd\n",
    "import matplotlib.pyplot as plt\n",
    "import torch\n",
    "from torch import nn, device\n",
    "from torchvision.transforms import v2 as transforms\n",
    "from torch.utils.data import DataLoader\n",
    "import numpy as np\n",
    "\n",
    "from torch.utils.tensorboard import SummaryWriter"
   ],
   "id": "e2d3e04ddaa2455d",
   "outputs": [],
   "execution_count": 2
  },
  {
   "metadata": {},
   "cell_type": "markdown",
   "source": "Setting up tensorboard",
   "id": "b669af6b2e232663"
  },
  {
   "metadata": {
    "ExecuteTime": {
     "end_time": "2025-09-23T18:05:56.909948Z",
     "start_time": "2025-09-23T18:05:56.908180Z"
    }
   },
   "cell_type": "code",
   "source": "writer = SummaryWriter('runs/mobilenet_experiment_1')",
   "id": "d09dab5fa8c43be6",
   "outputs": [],
   "execution_count": 3
  },
  {
   "metadata": {},
   "cell_type": "markdown",
   "source": "Loading my images into a dataframe to make data processing easier",
   "id": "538be6271a78d0dc"
  },
  {
   "metadata": {
    "ExecuteTime": {
     "end_time": "2025-09-23T18:05:56.917095Z",
     "start_time": "2025-09-23T18:05:56.914895Z"
    }
   },
   "cell_type": "code",
   "source": [
    "train_dataframe = pd.DataFrame(\n",
    "    {\n",
    "        'image_name': [],\n",
    "        'class': [],\n",
    "    }\n",
    ").set_index('image_name', verify_integrity=True) #No duplicate image names allowed\n",
    "\n",
    "test_dataframe = pd.DataFrame(\n",
    "    {\n",
    "        'image_name': [],\n",
    "        'class': [],\n",
    "    }\n",
    ").set_index('image_name', verify_integrity=True)"
   ],
   "id": "1c9471494043e8a7",
   "outputs": [],
   "execution_count": 4
  },
  {
   "metadata": {
    "ExecuteTime": {
     "end_time": "2025-09-23T18:06:01.366771Z",
     "start_time": "2025-09-23T18:05:56.923965Z"
    }
   },
   "cell_type": "code",
   "source": [
    "for files in os.listdir('data/Training'):\n",
    "    if files.startswith('.'):\n",
    "        continue\n",
    "    img_in_current_dir = os.listdir('data/Training/' + files)\n",
    "    total_images = len(img_in_current_dir)\n",
    "    if files.startswith('.'):\n",
    "        continue\n",
    "    for image in img_in_current_dir:\n",
    "        img = plt.imread(os.path.join('data/Training', files, image))\n",
    "        train_dataframe.loc[image] = {\n",
    "            'class': files,\n",
    "        }"
   ],
   "id": "bfedfbcd31fc5154",
   "outputs": [],
   "execution_count": 5
  },
  {
   "metadata": {
    "ExecuteTime": {
     "end_time": "2025-09-23T18:06:01.885186Z",
     "start_time": "2025-09-23T18:06:01.373710Z"
    }
   },
   "cell_type": "code",
   "source": [
    "for files in os.listdir('data/Testing'):\n",
    "    if files.startswith('.'):\n",
    "        continue\n",
    "    img_in_current_dir = os.listdir('data/Testing/' + files)\n",
    "    total_images = len(img_in_current_dir)\n",
    "    if files.startswith('.'):\n",
    "        continue\n",
    "    for image in img_in_current_dir:\n",
    "        img = plt.imread(os.path.join('data/Testing', files, image))\n",
    "        test_dataframe.loc[image] = {\n",
    "            'class': files,\n",
    "        }"
   ],
   "id": "4bd633fb92453e85",
   "outputs": [],
   "execution_count": 6
  },
  {
   "metadata": {
    "ExecuteTime": {
     "end_time": "2025-09-23T18:06:01.893536Z",
     "start_time": "2025-09-23T18:06:01.889419Z"
    }
   },
   "cell_type": "code",
   "source": "train_dataframe.sample(10)",
   "id": "a7db514cf2c2f478",
   "outputs": [
    {
     "data": {
      "text/plain": [
       "                         class\n",
       "image_name                    \n",
       "gg (804).jpg      glioma_tumor\n",
       "p (84).jpg     pituitary_tumor\n",
       "gg (378).jpg      glioma_tumor\n",
       "gg (205).jpg      glioma_tumor\n",
       "p (244).jpg    pituitary_tumor\n",
       "m2 (145).jpg  meningioma_tumor\n",
       "gg (811).jpg      glioma_tumor\n",
       "m (96).jpg    meningioma_tumor\n",
       "m1(5).jpg     meningioma_tumor\n",
       "m (75).jpg    meningioma_tumor"
      ],
      "text/html": [
       "<div>\n",
       "<style scoped>\n",
       "    .dataframe tbody tr th:only-of-type {\n",
       "        vertical-align: middle;\n",
       "    }\n",
       "\n",
       "    .dataframe tbody tr th {\n",
       "        vertical-align: top;\n",
       "    }\n",
       "\n",
       "    .dataframe thead th {\n",
       "        text-align: right;\n",
       "    }\n",
       "</style>\n",
       "<table border=\"1\" class=\"dataframe\">\n",
       "  <thead>\n",
       "    <tr style=\"text-align: right;\">\n",
       "      <th></th>\n",
       "      <th>class</th>\n",
       "    </tr>\n",
       "    <tr>\n",
       "      <th>image_name</th>\n",
       "      <th></th>\n",
       "    </tr>\n",
       "  </thead>\n",
       "  <tbody>\n",
       "    <tr>\n",
       "      <th>gg (804).jpg</th>\n",
       "      <td>glioma_tumor</td>\n",
       "    </tr>\n",
       "    <tr>\n",
       "      <th>p (84).jpg</th>\n",
       "      <td>pituitary_tumor</td>\n",
       "    </tr>\n",
       "    <tr>\n",
       "      <th>gg (378).jpg</th>\n",
       "      <td>glioma_tumor</td>\n",
       "    </tr>\n",
       "    <tr>\n",
       "      <th>gg (205).jpg</th>\n",
       "      <td>glioma_tumor</td>\n",
       "    </tr>\n",
       "    <tr>\n",
       "      <th>p (244).jpg</th>\n",
       "      <td>pituitary_tumor</td>\n",
       "    </tr>\n",
       "    <tr>\n",
       "      <th>m2 (145).jpg</th>\n",
       "      <td>meningioma_tumor</td>\n",
       "    </tr>\n",
       "    <tr>\n",
       "      <th>gg (811).jpg</th>\n",
       "      <td>glioma_tumor</td>\n",
       "    </tr>\n",
       "    <tr>\n",
       "      <th>m (96).jpg</th>\n",
       "      <td>meningioma_tumor</td>\n",
       "    </tr>\n",
       "    <tr>\n",
       "      <th>m1(5).jpg</th>\n",
       "      <td>meningioma_tumor</td>\n",
       "    </tr>\n",
       "    <tr>\n",
       "      <th>m (75).jpg</th>\n",
       "      <td>meningioma_tumor</td>\n",
       "    </tr>\n",
       "  </tbody>\n",
       "</table>\n",
       "</div>"
      ]
     },
     "execution_count": 7,
     "metadata": {},
     "output_type": "execute_result"
    }
   ],
   "execution_count": 7
  },
  {
   "metadata": {
    "ExecuteTime": {
     "end_time": "2025-09-23T18:06:01.910817Z",
     "start_time": "2025-09-23T18:06:01.908349Z"
    }
   },
   "cell_type": "code",
   "source": "test_dataframe.sample(10)",
   "id": "638351e958f6e35e",
   "outputs": [
    {
     "data": {
      "text/plain": [
       "                           class\n",
       "image_name                      \n",
       "image(31).jpg    pituitary_tumor\n",
       "image(120).jpg  meningioma_tumor\n",
       "image(44).jpg    pituitary_tumor\n",
       "image(85).jpg    pituitary_tumor\n",
       "image(66).jpg    pituitary_tumor\n",
       "image(50).jpg       glioma_tumor\n",
       "image(43).jpg    pituitary_tumor\n",
       "image(33).jpg       glioma_tumor\n",
       "image(6).jpg     pituitary_tumor\n",
       "image(14).jpg       glioma_tumor"
      ],
      "text/html": [
       "<div>\n",
       "<style scoped>\n",
       "    .dataframe tbody tr th:only-of-type {\n",
       "        vertical-align: middle;\n",
       "    }\n",
       "\n",
       "    .dataframe tbody tr th {\n",
       "        vertical-align: top;\n",
       "    }\n",
       "\n",
       "    .dataframe thead th {\n",
       "        text-align: right;\n",
       "    }\n",
       "</style>\n",
       "<table border=\"1\" class=\"dataframe\">\n",
       "  <thead>\n",
       "    <tr style=\"text-align: right;\">\n",
       "      <th></th>\n",
       "      <th>class</th>\n",
       "    </tr>\n",
       "    <tr>\n",
       "      <th>image_name</th>\n",
       "      <th></th>\n",
       "    </tr>\n",
       "  </thead>\n",
       "  <tbody>\n",
       "    <tr>\n",
       "      <th>image(31).jpg</th>\n",
       "      <td>pituitary_tumor</td>\n",
       "    </tr>\n",
       "    <tr>\n",
       "      <th>image(120).jpg</th>\n",
       "      <td>meningioma_tumor</td>\n",
       "    </tr>\n",
       "    <tr>\n",
       "      <th>image(44).jpg</th>\n",
       "      <td>pituitary_tumor</td>\n",
       "    </tr>\n",
       "    <tr>\n",
       "      <th>image(85).jpg</th>\n",
       "      <td>pituitary_tumor</td>\n",
       "    </tr>\n",
       "    <tr>\n",
       "      <th>image(66).jpg</th>\n",
       "      <td>pituitary_tumor</td>\n",
       "    </tr>\n",
       "    <tr>\n",
       "      <th>image(50).jpg</th>\n",
       "      <td>glioma_tumor</td>\n",
       "    </tr>\n",
       "    <tr>\n",
       "      <th>image(43).jpg</th>\n",
       "      <td>pituitary_tumor</td>\n",
       "    </tr>\n",
       "    <tr>\n",
       "      <th>image(33).jpg</th>\n",
       "      <td>glioma_tumor</td>\n",
       "    </tr>\n",
       "    <tr>\n",
       "      <th>image(6).jpg</th>\n",
       "      <td>pituitary_tumor</td>\n",
       "    </tr>\n",
       "    <tr>\n",
       "      <th>image(14).jpg</th>\n",
       "      <td>glioma_tumor</td>\n",
       "    </tr>\n",
       "  </tbody>\n",
       "</table>\n",
       "</div>"
      ]
     },
     "execution_count": 8,
     "metadata": {},
     "output_type": "execute_result"
    }
   ],
   "execution_count": 8
  },
  {
   "metadata": {},
   "cell_type": "markdown",
   "source": "one hot encoding the classes",
   "id": "78648d1cc2e94a20"
  },
  {
   "metadata": {
    "ExecuteTime": {
     "end_time": "2025-09-23T18:06:01.932565Z",
     "start_time": "2025-09-23T18:06:01.928100Z"
    }
   },
   "cell_type": "code",
   "source": [
    "train_dataframe = pd.get_dummies(train_dataframe,columns=['class'], dtype='long')\n",
    "test_dataframe = pd.get_dummies(test_dataframe,columns=['class'], dtype='long')\n",
    "train_dataframe"
   ],
   "id": "90bec3658b708732",
   "outputs": [
    {
     "data": {
      "text/plain": [
       "                class_glioma_tumor  class_meningioma_tumor  class_no_tumor  \\\n",
       "image_name                                                                   \n",
       "image(115).jpg                   0                       0               1   \n",
       "image(142).jpg                   0                       0               1   \n",
       "image(49).jpg                    0                       0               1   \n",
       "image(1).jpg                     0                       0               1   \n",
       "image(284).jpg                   0                       0               1   \n",
       "...                            ...                     ...             ...   \n",
       "p (663).jpg                      0                       0               0   \n",
       "p (399).jpg                      0                       0               0   \n",
       "p (233).jpg                      0                       0               0   \n",
       "p (726).jpg                      0                       0               0   \n",
       "p (376).jpg                      0                       0               0   \n",
       "\n",
       "                class_pituitary_tumor  \n",
       "image_name                             \n",
       "image(115).jpg                      0  \n",
       "image(142).jpg                      0  \n",
       "image(49).jpg                       0  \n",
       "image(1).jpg                        0  \n",
       "image(284).jpg                      0  \n",
       "...                               ...  \n",
       "p (663).jpg                         1  \n",
       "p (399).jpg                         1  \n",
       "p (233).jpg                         1  \n",
       "p (726).jpg                         1  \n",
       "p (376).jpg                         1  \n",
       "\n",
       "[2870 rows x 4 columns]"
      ],
      "text/html": [
       "<div>\n",
       "<style scoped>\n",
       "    .dataframe tbody tr th:only-of-type {\n",
       "        vertical-align: middle;\n",
       "    }\n",
       "\n",
       "    .dataframe tbody tr th {\n",
       "        vertical-align: top;\n",
       "    }\n",
       "\n",
       "    .dataframe thead th {\n",
       "        text-align: right;\n",
       "    }\n",
       "</style>\n",
       "<table border=\"1\" class=\"dataframe\">\n",
       "  <thead>\n",
       "    <tr style=\"text-align: right;\">\n",
       "      <th></th>\n",
       "      <th>class_glioma_tumor</th>\n",
       "      <th>class_meningioma_tumor</th>\n",
       "      <th>class_no_tumor</th>\n",
       "      <th>class_pituitary_tumor</th>\n",
       "    </tr>\n",
       "    <tr>\n",
       "      <th>image_name</th>\n",
       "      <th></th>\n",
       "      <th></th>\n",
       "      <th></th>\n",
       "      <th></th>\n",
       "    </tr>\n",
       "  </thead>\n",
       "  <tbody>\n",
       "    <tr>\n",
       "      <th>image(115).jpg</th>\n",
       "      <td>0</td>\n",
       "      <td>0</td>\n",
       "      <td>1</td>\n",
       "      <td>0</td>\n",
       "    </tr>\n",
       "    <tr>\n",
       "      <th>image(142).jpg</th>\n",
       "      <td>0</td>\n",
       "      <td>0</td>\n",
       "      <td>1</td>\n",
       "      <td>0</td>\n",
       "    </tr>\n",
       "    <tr>\n",
       "      <th>image(49).jpg</th>\n",
       "      <td>0</td>\n",
       "      <td>0</td>\n",
       "      <td>1</td>\n",
       "      <td>0</td>\n",
       "    </tr>\n",
       "    <tr>\n",
       "      <th>image(1).jpg</th>\n",
       "      <td>0</td>\n",
       "      <td>0</td>\n",
       "      <td>1</td>\n",
       "      <td>0</td>\n",
       "    </tr>\n",
       "    <tr>\n",
       "      <th>image(284).jpg</th>\n",
       "      <td>0</td>\n",
       "      <td>0</td>\n",
       "      <td>1</td>\n",
       "      <td>0</td>\n",
       "    </tr>\n",
       "    <tr>\n",
       "      <th>...</th>\n",
       "      <td>...</td>\n",
       "      <td>...</td>\n",
       "      <td>...</td>\n",
       "      <td>...</td>\n",
       "    </tr>\n",
       "    <tr>\n",
       "      <th>p (663).jpg</th>\n",
       "      <td>0</td>\n",
       "      <td>0</td>\n",
       "      <td>0</td>\n",
       "      <td>1</td>\n",
       "    </tr>\n",
       "    <tr>\n",
       "      <th>p (399).jpg</th>\n",
       "      <td>0</td>\n",
       "      <td>0</td>\n",
       "      <td>0</td>\n",
       "      <td>1</td>\n",
       "    </tr>\n",
       "    <tr>\n",
       "      <th>p (233).jpg</th>\n",
       "      <td>0</td>\n",
       "      <td>0</td>\n",
       "      <td>0</td>\n",
       "      <td>1</td>\n",
       "    </tr>\n",
       "    <tr>\n",
       "      <th>p (726).jpg</th>\n",
       "      <td>0</td>\n",
       "      <td>0</td>\n",
       "      <td>0</td>\n",
       "      <td>1</td>\n",
       "    </tr>\n",
       "    <tr>\n",
       "      <th>p (376).jpg</th>\n",
       "      <td>0</td>\n",
       "      <td>0</td>\n",
       "      <td>0</td>\n",
       "      <td>1</td>\n",
       "    </tr>\n",
       "  </tbody>\n",
       "</table>\n",
       "<p>2870 rows × 4 columns</p>\n",
       "</div>"
      ]
     },
     "execution_count": 9,
     "metadata": {},
     "output_type": "execute_result"
    }
   ],
   "execution_count": 9
  },
  {
   "metadata": {
    "ExecuteTime": {
     "end_time": "2025-09-23T18:06:01.995150Z",
     "start_time": "2025-09-23T18:06:01.993115Z"
    }
   },
   "cell_type": "code",
   "source": [
    "from torchvision.io import decode_image\n",
    "from torchvision.io import ImageReadMode\n",
    "class ImageDataset(torch.utils.data.Dataset):\n",
    "    def __init__(self, dataset, root_dir, transform=None):\n",
    "        self.dataset: pd.DataFrame = dataset\n",
    "        self.root_dir = root_dir\n",
    "        self.transform = transform\n",
    "\n",
    "    def __len__(self):\n",
    "        return self.dataset.shape[0]\n",
    "\n",
    "    def __getitem__(self, idx):\n",
    "        row = self.dataset.iloc[idx] #Get the row at the int index, all columns\n",
    "        #Label is whichever column has a 1 in it (the class)\n",
    "\n",
    "        #Get the index of the column with a 1 in it (the class), 0 because this returns a series with one value\n",
    "        label_for_index = row[row == 1].index[0].split(\"_\", 1)[1] #Get class name (one hot encoded column name) after the first underscore (to make directory name)\n",
    "\n",
    "        image_path = os.path.join(self.root_dir, label_for_index, row.name) #Create the full image path\n",
    "        image = decode_image(image_path, mode=ImageReadMode.RGB) #Decode the image to a tensor\n",
    "\n",
    "        #row.name is the image name (index in string format), drop this to get only the one hot encoded columns\n",
    "        hot_one_labels = row.values #Get all the values in the row as a numpy array without the index (image name) - .values returns a numpy array\n",
    "\n",
    "\n",
    "        if self.transform:\n",
    "            image = self.transform(image)\n",
    "\n",
    "        return image, torch.tensor(hot_one_labels, dtype=torch.long) #Must be long tensor for loss function CrossEntropyLoss"
   ],
   "id": "a5c45e64435ad01d",
   "outputs": [],
   "execution_count": 10
  },
  {
   "metadata": {
    "ExecuteTime": {
     "end_time": "2025-09-23T18:06:02.020410Z",
     "start_time": "2025-09-23T18:06:02.018690Z"
    }
   },
   "cell_type": "code",
   "source": [
    "#Because none of these are in a randomApply or p= etc, they will always be applied\n",
    "training_transforms = transforms.Compose([\n",
    "    transforms.ToImage(),\n",
    "    transforms.Resize((256, 256)),\n",
    "    transforms.ColorJitter(brightness=0.3, contrast=0.2, saturation=0.2, hue=0.2), #Change brightness, contrast, saturation and hue randomly a little bit\n",
    "    transforms.RandomRotation(20), #Randomly rotate the image by 20 degrees\n",
    "    transforms.ToDtype(dtype=torch.float32, scale=True),\n",
    "    transforms.Normalize(mean=[0.485, 0.456, 0.406], std=[0.229, 0.224, 0.225]) #Normalize to the same as imagenet\n",
    "])"
   ],
   "id": "ddac0a86a734c374",
   "outputs": [],
   "execution_count": 11
  },
  {
   "metadata": {
    "ExecuteTime": {
     "end_time": "2025-09-23T18:06:02.040044Z",
     "start_time": "2025-09-23T18:06:02.038573Z"
    }
   },
   "cell_type": "code",
   "source": [
    "standard_transforms = transforms.Compose([\n",
    "    transforms.ToImage(),\n",
    "    transforms.Resize((256, 256)),\n",
    "    transforms.ToDtype(dtype=torch.float32, scale=True),\n",
    "    transforms.Normalize(mean=[0.485, 0.456, 0.406], std=[0.229, 0.224, 0.225]) #Normalize to the same as imagenet\n",
    "])"
   ],
   "id": "be05207a53f6a3cd",
   "outputs": [],
   "execution_count": 12
  },
  {
   "metadata": {},
   "cell_type": "markdown",
   "source": "Splitting dataset with random sampling - i accidentally set these both to data/Training which assume messed up the sampling",
   "id": "45f0d9c2fb85b02b"
  },
  {
   "metadata": {
    "ExecuteTime": {
     "end_time": "2025-09-23T18:06:02.089249Z",
     "start_time": "2025-09-23T18:06:02.087978Z"
    }
   },
   "cell_type": "code",
   "source": [
    "train_dataset = ImageDataset(dataset=train_dataframe,root_dir='data/Training', transform=training_transforms)\n",
    "test_dataset = ImageDataset(dataset=test_dataframe,root_dir='data/Testing', transform=standard_transforms)"
   ],
   "id": "c547e00743558d22",
   "outputs": [],
   "execution_count": 13
  },
  {
   "metadata": {},
   "cell_type": "markdown",
   "source": "Getting validation from the test set means the data augmentation is not applied to the validation set, which is good because we want to see how well the model generalizes to unseen data without augmentation",
   "id": "e2434deb2a752458"
  },
  {
   "metadata": {
    "ExecuteTime": {
     "end_time": "2025-09-23T18:06:02.095293Z",
     "start_time": "2025-09-23T18:06:02.093452Z"
    }
   },
   "cell_type": "code",
   "source": [
    "#Splitting dataset with samplers\n",
    "validation_split = 0.2\n",
    "dataset_size = len(test_dataset)\n",
    "\n",
    "#indices are just a list of all the numbers from 0 to dataset_size-1\n",
    "indices = list(range(dataset_size)) #List of all indices in the dataset from 0 to dataset_size-1\n",
    "split = int(np.floor(validation_split * dataset_size)) #The integer Number of validation samples to get. Getting the largest integer less than or equal to the split point (np.floor)\n",
    "np.random.shuffle(indices) #Shuffle the indices randomly so the testing and validation sets are random\n",
    "\n",
    "test_indices, val_indices = indices[split:], indices[:split] #Split the indices into testing and validation sets, before (test) and after (val) the split point\n",
    "\n",
    "#Samplers will take in a list of indices and will only sample from those indices (only get data from those indices for each set)\n",
    "test_sampler = torch.utils.data.SubsetRandomSampler(test_indices) #Create a sampler for the testing set using the training indices\n",
    "val_sampler = torch.utils.data.SubsetRandomSampler(val_indices) #Create a sampler for the validation set using the validation indices\n",
    "\n",
    "#Data loaders will load data from the dataset using the samplers to only get data from the specified indices\n",
    "test_loader = DataLoader(test_dataset, batch_size=32, sampler=test_sampler)\n",
    "val_loader = DataLoader(test_dataset, batch_size=32, sampler=val_sampler)\n",
    "\n"
   ],
   "id": "b73333933db8beb3",
   "outputs": [],
   "execution_count": 14
  },
  {
   "metadata": {
    "ExecuteTime": {
     "end_time": "2025-09-23T18:06:02.103468Z",
     "start_time": "2025-09-23T18:06:02.102100Z"
    }
   },
   "cell_type": "code",
   "source": "train_dataloader = DataLoader(train_dataset, batch_size=32, shuffle=True)",
   "id": "ced919c2d353e60c",
   "outputs": [],
   "execution_count": 15
  },
  {
   "metadata": {
    "ExecuteTime": {
     "end_time": "2025-09-23T18:06:02.379108Z",
     "start_time": "2025-09-23T18:06:02.114129Z"
    }
   },
   "cell_type": "code",
   "source": [
    "images, labels = next(iter(train_dataloader))\n",
    "images.shape"
   ],
   "id": "a0345cfcc821ad05",
   "outputs": [
    {
     "data": {
      "text/plain": [
       "torch.Size([32, 3, 256, 256])"
      ]
     },
     "execution_count": 16,
     "metadata": {},
     "output_type": "execute_result"
    }
   ],
   "execution_count": 16
  },
  {
   "metadata": {
    "ExecuteTime": {
     "end_time": "2025-09-23T18:06:02.487613Z",
     "start_time": "2025-09-23T18:06:02.387603Z"
    }
   },
   "cell_type": "code",
   "source": [
    "from torchvision.utils import make_grid\n",
    "\n",
    "def imshow(img):\n",
    "    img = img / 2 + 0.5     # unnormalize\n",
    "    npimg = img.numpy()\n",
    "    plt.imshow(np.transpose(npimg, (1, 2, 0)))\n",
    "    plt.show()\n",
    "\n",
    "print(images.dtype)  # Check the shape of the images tensor\n",
    "print(images.dtype)  # Check the shape of the labels tensor\n",
    "\n",
    "grid_images = make_grid(images)\n",
    "\n",
    "imshow(grid_images)\n"
   ],
   "id": "90684a1e383936e6",
   "outputs": [
    {
     "name": "stderr",
     "output_type": "stream",
     "text": [
      "Clipping input data to the valid range for imshow with RGB data ([0..1] for floats or [0..255] for integers). Got range [-0.558952..1.82].\n"
     ]
    },
    {
     "name": "stdout",
     "output_type": "stream",
     "text": [
      "torch.float32\n",
      "torch.float32\n"
     ]
    },
    {
     "data": {
      "text/plain": [
       "<Figure size 640x480 with 1 Axes>"
      ],
      "image/png": "[encoded data removed]"
     },
     "metadata": {},
     "output_type": "display_data"
    }
   ],
   "execution_count": 17
  },
  {
   "metadata": {},
   "cell_type": "markdown",
   "source": "https://arxiv.org/pdf/1801.04381 - MobileNetV2 paper",
   "id": "7b766293722d58f0"
  },
  {
   "metadata": {},
   "cell_type": "markdown",
   "source": "Write example images to tensorboard",
   "id": "9d42fdb3c459dc4c"
  },
  {
   "metadata": {
    "ExecuteTime": {
     "end_time": "2025-09-23T18:06:02.623971Z",
     "start_time": "2025-09-23T18:06:02.495529Z"
    }
   },
   "cell_type": "code",
   "source": [
    "writer.add_image('example_images with data augmentation', grid_images)\n",
    "writer.close()"
   ],
   "id": "f4d0df7dc94a8e93",
   "outputs": [],
   "execution_count": 18
  },
  {
   "metadata": {},
   "cell_type": "markdown",
   "source": [
    "How the residual block works:\n",
    "1. Input image goes through an expansion layer (1x1 conv) to increase the number of channels by a factor of expansion_rate (default 6) - expansion_bottleneck - this also acts as a pointwise convolution\n",
    "2. The expanded image goes through a depthwise separable convolution layer (3x3 conv for each channel) - depthwise_separable_conv\n",
    "3. The output of the depthwise separable conv goes through a projection layer (1x1 conv) to reduce the number of channels back to out_channels to save computation - linear_bottleneck\n",
    "4. If the input and output shapes match (same number of channels and stride is 1), a residual connection is added from the input to the output of the linear bottleneck - residual addition\n",
    "5. The output of the block is returned\n",
    "6. Multiple blocks are stacked together to form the full MobileNetV2 architecture in the Model class below"
   ],
   "id": "ae9001c6e176f941"
  },
  {
   "metadata": {
    "ExecuteTime": {
     "end_time": "2025-09-23T18:06:02.634248Z",
     "start_time": "2025-09-23T18:06:02.631254Z"
    }
   },
   "cell_type": "code",
   "source": [
    "#Build the MobileNetV2 model using depthwise separable convolutions, linear bottlenecks, and inverted residuals\n",
    "#Input, expansion, depthwise separable conv, projection (linear bottleneck), residual addition\n",
    "\n",
    "class InvertedResidualBlock(nn.Module):\n",
    "    def __init__(self, in_channels, out_channels, kernel_size=3, stride=1, padding=1, expansion_rate=6):\n",
    "        super(InvertedResidualBlock, self).__init__()\n",
    "        self.expansion_bottleneck_layer, expanded_channels = self.expansion_bottleneck(in_channels, expansion_rate) # - Expansion layer (pointwise conv 1x1) - Gives us a count of how many channels we have after the expansion\n",
    "        self.depthwise_separable_conv_layer = self.depthwise_separable_conv(in_channels=expanded_channels, kernal_size=kernel_size, stride=stride, padding=padding) # - Depthwise separable convolution layer\n",
    "        self.linear_bottleneck_layer  = self.linear_bottleneck(expanded_channels, out_channels) # - Projection layer (Linear bottleneck)\n",
    "        self.use_residual = self.input_output_shape_match(in_channels, out_channels, stride) # - Check if input and output shapes match for residual addition (if channels are increased in linear bottleneck or stride > 1, shapes won't match) so we can't do a residual addition\n",
    "\n",
    "    def expansion_bottleneck(self, in_channels, expansion_rate): # - Expansion layer (pointwise conv 1x1)\n",
    "        #Expands the number of channels by expansion_rate using a 1x1 conv to allow the depth wise conv to learn more features in higher dimensional space\n",
    "        expanded_channels = in_channels * expansion_rate\n",
    "        return nn.Sequential(\n",
    "            nn.Conv2d(in_channels=in_channels, out_channels=expanded_channels, kernel_size=1, stride=1, padding=0), #Pointwise conv to expand channels\n",
    "            nn.BatchNorm2d(expanded_channels),\n",
    "            nn.ReLU6(inplace=True)\n",
    "        ), expanded_channels\n",
    "\n",
    "    def depthwise_separable_conv(self, in_channels, kernal_size=3, stride=1, padding=1): # - Depthwise separable convolution layer\n",
    "        #Operates on expanded channels from previous layer - Pointwise conv in expansion_bottleneck\n",
    "\n",
    "        #Depthwise convolution (3x3 conv for each channel), in_channels = out_channels here because we are doing a conv per channel, groups=in_channels means we are doing a conv per channel\n",
    "        depth_wise_conv = nn.Conv2d(in_channels=in_channels, out_channels=in_channels, kernel_size=kernal_size, stride=stride, padding=padding, groups=in_channels)\n",
    "\n",
    "        return nn.Sequential(\n",
    "            depth_wise_conv,\n",
    "            nn.BatchNorm2d(in_channels),\n",
    "            nn.ReLU6(inplace=True),\n",
    "        )\n",
    "\n",
    "    def linear_bottleneck(self, in_channels, out_channels): # - Projection layer\n",
    "        #This is just a 1x1 conv to reduce the number of channels back to in_channels after the depthwise separable conv - back to low dimensional space to save computation and parameters, linear means negative values are not removed like with ReLU\n",
    "        projection_layer = nn.Conv2d(in_channels=in_channels, out_channels=out_channels, kernel_size=1, stride=1, padding=0) #Compress channels to low dimensional space with linear conv\n",
    "        return nn.Sequential(\n",
    "            projection_layer,\n",
    "            nn.BatchNorm2d(out_channels), #Batch norm after conv (so on expanded channels)\n",
    "            #No relu here because its a linear bottleneck - we want to preserve negative values for better representation\n",
    "        )\n",
    "\n",
    "    def input_output_shape_match(self, in_channels, out_channels, stride): # - Check if input and output shapes match for residual addition (if channels are increased in linear bottleneck or stride > 1, shapes won't match) so we can't do a residual addition. If stride == not 1, in_channels != out_channels then spatial dimensions will change so can't do residual addition\n",
    "\n",
    "    #If output channels and input channels are the same and stride is 1, we can do a residual addition because the input and output feature maps will be the same shape\n",
    "        return in_channels == out_channels and stride == 1\n",
    "\n",
    "    def forward(self, x): #Preserve input x for residual addition later so 'out' is the output of the linear bottleneck\n",
    "        out = self.expansion_bottleneck_layer(x)\n",
    "        out = self.depthwise_separable_conv_layer(out)\n",
    "        out = self.linear_bottleneck_layer(out)\n",
    "        if self.use_residual:\n",
    "            out = out + x #Residual addition - out is the output of the linear bottleneck, x is the input to the block - only if shapes match is it passed through (shortcut connection) - Preserves information from input (so we don't forget what we already know)\n",
    "        return out"
   ],
   "id": "bb14b6d854967bf6",
   "outputs": [],
   "execution_count": 19
  },
  {
   "metadata": {
    "ExecuteTime": {
     "end_time": "2025-09-23T18:06:02.645477Z",
     "start_time": "2025-09-23T18:06:02.641059Z"
    }
   },
   "cell_type": "code",
   "source": [
    "class Model(nn.Module):\n",
    "    def __init__(self, num_classes):\n",
    "        super(Model, self).__init__()\n",
    "        self.initial_conv_layer = self.general_conv(in_channels=3, out_channels=32, kernel_size=3, stride=2, padding=1) #Initial conv layer to create feature maps from input image\n",
    "\n",
    "        #Total 19 inverted residual blocks as per the paper\n",
    "        self.layer_block_1 = self._make_layer(in_channels=32, out_channels=16, stride=1, padding=1, expansion_rate=1, num_blocks=1) #First layer block - 1 inverted residual block\n",
    "        self.layer_block_2 = self._make_layer(in_channels=16, out_channels=24, stride=2, padding=1, expansion_rate=6, num_blocks=2) #Second layer block - 2 inverted residual blocks\n",
    "        self.layer_block_3 = self._make_layer(in_channels=24, out_channels=32, stride=2, padding=1, expansion_rate=6, num_blocks=3) #Third layer block - 3 inverted residual blocks\n",
    "        self.layer_block_4 = self._make_layer(in_channels=32, out_channels=64, stride=2, padding=1, expansion_rate=6, num_blocks=4) #Fourth layer block - 4 inverted residual blocks\n",
    "        self.layer_block_5 = self._make_layer(in_channels=64, out_channels=96, stride=1, padding=1, expansion_rate=6, num_blocks=3) #Fifth layer block - 3 inverted residual blocks - Residual connections used here\n",
    "        self.layer_block_6 = self._make_layer(in_channels=96, out_channels=160, stride=2, padding=1, expansion_rate=6, num_blocks=3) #Sixth layer block - 3 inverted residual blocks\n",
    "        self.layer_block_7 = self._make_layer(in_channels=160, out_channels=320, stride=1, padding=1, expansion_rate=6, num_blocks=1) #Seventh layer block - 1 inverted residual block\n",
    "\n",
    "        self.final_conv_layer = self.general_conv(in_channels=320, out_channels=1280, kernel_size=1, stride=1, padding=0) #Final conv layer before pooling and classification\n",
    "        self.avgpool_and_flatten = self.flatten_and_pooling(output_dim=1) #Adaptive average pooling to get a fixed size output regardless of input image size, then flatten to 1D tensor\n",
    "        self.classifier = nn.Linear(1280, num_classes) #Final classifier layer\n",
    "\n",
    "    def flatten_and_pooling(self, output_dim=1):\n",
    "        return nn.Sequential(\n",
    "            nn.AdaptiveAvgPool2d(output_dim), #Adaptive average pooling, this will average the channels to a fixed size output_dim x output_dim (1x1 here)\n",
    "            nn.Flatten(), #Flatten the output to a 1D tensor\n",
    "        )\n",
    "\n",
    "    def general_conv(self, in_channels, out_channels, kernel_size=3, stride=2, padding=1):\n",
    "        return nn.Sequential(\n",
    "            nn.Conv2d(in_channels=in_channels, out_channels=out_channels, kernel_size=kernel_size, stride=stride, padding=padding),\n",
    "            nn.BatchNorm2d(out_channels),\n",
    "            nn.ReLU6(inplace=True) #Relu6 is used in MobileNetV2 - Activations cant above 6 (helps with quantization later on for mobile devices)\n",
    "        )\n",
    "\n",
    "    def _make_layer(self, in_channels, out_channels,stride, padding, expansion_rate, num_blocks):\n",
    "        layers = []\n",
    "        for i in range(0, num_blocks):\n",
    "            if i != 0: #First block does the downsampling if stride > 1, subsequent blocks have stride 1 - as per the paper\n",
    "                in_channels = out_channels #Because the first block will change the number of channels to out_channels, subsequent blocks will have in_channels = out_channels\n",
    "                stride = 1 #Subsequent blocks will have stride 1, only the first block in the layer can have a stride > 1 to downsample\n",
    "\n",
    "                #Doing both of these things means the shape will match so the residual addition to be used in subsequent blocks\n",
    "            layers.append(InvertedResidualBlock(in_channels=in_channels, out_channels=out_channels, stride=stride, padding=padding, expansion_rate=expansion_rate)) #Only the first block in the layer can have a stride > 1 to downsample, subsequent blocks have stride 1\n",
    "\n",
    "        return nn.Sequential(*layers) #Unpack the layers list into the sequential module\n",
    "\n",
    "    def forward(self, x):\n",
    "        x = self.initial_conv_layer(x)\n",
    "        x = self.layer_block_1(x)\n",
    "\n",
    "        #The issue is that within each layer block, the first block will up the channels to 24, but the next block will expect 16 channels as input because that is what was passed in when creating the layer block\n",
    "        #So we need to update in_channels to be out_channels after the first block in each\n",
    "        x = self.layer_block_2(x)\n",
    "        x = self.layer_block_3(x)\n",
    "        x = self.layer_block_4(x)\n",
    "        x = self.layer_block_5(x)\n",
    "        x = self.layer_block_6(x)\n",
    "        x = self.layer_block_7(x)\n",
    "\n",
    "        x = self.final_conv_layer(x)\n",
    "        x = self.avgpool_and_flatten(x)\n",
    "        x = self.classifier(x)\n",
    "        return x\n",
    "    print('MobileNetV2 Model Created')"
   ],
   "id": "e8a3af26d558fc28",
   "outputs": [
    {
     "name": "stdout",
     "output_type": "stream",
     "text": [
      "MobileNetV2 Model Created\n"
     ]
    }
   ],
   "execution_count": 20
  },
  {
   "metadata": {
    "ExecuteTime": {
     "end_time": "2025-09-23T18:06:02.660641Z",
     "start_time": "2025-09-23T18:06:02.652638Z"
    }
   },
   "cell_type": "code",
   "source": "net = Model(num_classes=4) #4 classes in the dataset",
   "id": "20fd55ea38aa6168",
   "outputs": [],
   "execution_count": 21
  },
  {
   "metadata": {
    "ExecuteTime": {
     "end_time": "2025-09-23T18:06:02.669559Z",
     "start_time": "2025-09-23T18:06:02.667930Z"
    }
   },
   "cell_type": "code",
   "source": "print(net)",
   "id": "2842a15269a7ff87",
   "outputs": [
    {
     "name": "stdout",
     "output_type": "stream",
     "text": [
      "Model(\n",
      "  (initial_conv_layer): Sequential(\n",
      "    (0): Conv2d(3, 32, kernel_size=(3, 3), stride=(2, 2), padding=(1, 1))\n",
      "    (1): BatchNorm2d(32, eps=1e-05, momentum=0.1, affine=True, track_running_stats=True)\n",
      "    (2): ReLU6(inplace=True)\n",
      "  )\n",
      "  (layer_block_1): Sequential(\n",
      "    (0): InvertedResidualBlock(\n",
      "      (expansion_bottleneck_layer): Sequential(\n",
      "        (0): Conv2d(32, 32, kernel_size=(1, 1), stride=(1, 1))\n",
      "        (1): BatchNorm2d(32, eps=1e-05, momentum=0.1, affine=True, track_running_stats=True)\n",
      "        (2): ReLU6(inplace=True)\n",
      "      )\n",
      "      (depthwise_separable_conv_layer): Sequential(\n",
      "        (0): Conv2d(32, 32, kernel_size=(3, 3), stride=(1, 1), padding=(1, 1), groups=32)\n",
      "        (1): BatchNorm2d(32, eps=1e-05, momentum=0.1, affine=True, track_running_stats=True)\n",
      "        (2): ReLU6(inplace=True)\n",
      "      )\n",
      "      (linear_bottleneck_layer): Sequential(\n",
      "        (0): Conv2d(32, 16, kernel_size=(1, 1), stride=(1, 1))\n",
      "        (1): BatchNorm2d(16, eps=1e-05, momentum=0.1, affine=True, track_running_stats=True)\n",
      "      )\n",
      "    )\n",
      "  )\n",
      "  (layer_block_2): Sequential(\n",
      "    (0): InvertedResidualBlock(\n",
      "      (expansion_bottleneck_layer): Sequential(\n",
      "        (0): Conv2d(16, 96, kernel_size=(1, 1), stride=(1, 1))\n",
      "        (1): BatchNorm2d(96, eps=1e-05, momentum=0.1, affine=True, track_running_stats=True)\n",
      "        (2): ReLU6(inplace=True)\n",
      "      )\n",
      "      (depthwise_separable_conv_layer): Sequential(\n",
      "        (0): Conv2d(96, 96, kernel_size=(3, 3), stride=(2, 2), padding=(1, 1), groups=96)\n",
      "        (1): BatchNorm2d(96, eps=1e-05, momentum=0.1, affine=True, track_running_stats=True)\n",
      "        (2): ReLU6(inplace=True)\n",
      "      )\n",
      "      (linear_bottleneck_layer): Sequential(\n",
      "        (0): Conv2d(96, 24, kernel_size=(1, 1), stride=(1, 1))\n",
      "        (1): BatchNorm2d(24, eps=1e-05, momentum=0.1, affine=True, track_running_stats=True)\n",
      "      )\n",
      "    )\n",
      "    (1): InvertedResidualBlock(\n",
      "      (expansion_bottleneck_layer): Sequential(\n",
      "        (0): Conv2d(24, 144, kernel_size=(1, 1), stride=(1, 1))\n",
      "        (1): BatchNorm2d(144, eps=1e-05, momentum=0.1, affine=True, track_running_stats=True)\n",
      "        (2): ReLU6(inplace=True)\n",
      "      )\n",
      "      (depthwise_separable_conv_layer): Sequential(\n",
      "        (0): Conv2d(144, 144, kernel_size=(3, 3), stride=(1, 1), padding=(1, 1), groups=144)\n",
      "        (1): BatchNorm2d(144, eps=1e-05, momentum=0.1, affine=True, track_running_stats=True)\n",
      "        (2): ReLU6(inplace=True)\n",
      "      )\n",
      "      (linear_bottleneck_layer): Sequential(\n",
      "        (0): Conv2d(144, 24, kernel_size=(1, 1), stride=(1, 1))\n",
      "        (1): BatchNorm2d(24, eps=1e-05, momentum=0.1, affine=True, track_running_stats=True)\n",
      "      )\n",
      "    )\n",
      "  )\n",
      "  (layer_block_3): Sequential(\n",
      "    (0): InvertedResidualBlock(\n",
      "      (expansion_bottleneck_layer): Sequential(\n",
      "        (0): Conv2d(24, 144, kernel_size=(1, 1), stride=(1, 1))\n",
      "        (1): BatchNorm2d(144, eps=1e-05, momentum=0.1, affine=True, track_running_stats=True)\n",
      "        (2): ReLU6(inplace=True)\n",
      "      )\n",
      "      (depthwise_separable_conv_layer): Sequential(\n",
      "        (0): Conv2d(144, 144, kernel_size=(3, 3), stride=(2, 2), padding=(1, 1), groups=144)\n",
      "        (1): BatchNorm2d(144, eps=1e-05, momentum=0.1, affine=True, track_running_stats=True)\n",
      "        (2): ReLU6(inplace=True)\n",
      "      )\n",
      "      (linear_bottleneck_layer): Sequential(\n",
      "        (0): Conv2d(144, 32, kernel_size=(1, 1), stride=(1, 1))\n",
      "        (1): BatchNorm2d(32, eps=1e-05, momentum=0.1, affine=True, track_running_stats=True)\n",
      "      )\n",
      "    )\n",
      "    (1): InvertedResidualBlock(\n",
      "      (expansion_bottleneck_layer): Sequential(\n",
      "        (0): Conv2d(32, 192, kernel_size=(1, 1), stride=(1, 1))\n",
      "        (1): BatchNorm2d(192, eps=1e-05, momentum=0.1, affine=True, track_running_stats=True)\n",
      "        (2): ReLU6(inplace=True)\n",
      "      )\n",
      "      (depthwise_separable_conv_layer): Sequential(\n",
      "        (0): Conv2d(192, 192, kernel_size=(3, 3), stride=(1, 1), padding=(1, 1), groups=192)\n",
      "        (1): BatchNorm2d(192, eps=1e-05, momentum=0.1, affine=True, track_running_stats=True)\n",
      "        (2): ReLU6(inplace=True)\n",
      "      )\n",
      "      (linear_bottleneck_layer): Sequential(\n",
      "        (0): Conv2d(192, 32, kernel_size=(1, 1), stride=(1, 1))\n",
      "        (1): BatchNorm2d(32, eps=1e-05, momentum=0.1, affine=True, track_running_stats=True)\n",
      "      )\n",
      "    )\n",
      "    (2): InvertedResidualBlock(\n",
      "      (expansion_bottleneck_layer): Sequential(\n",
      "        (0): Conv2d(32, 192, kernel_size=(1, 1), stride=(1, 1))\n",
      "        (1): BatchNorm2d(192, eps=1e-05, momentum=0.1, affine=True, track_running_stats=True)\n",
      "        (2): ReLU6(inplace=True)\n",
      "      )\n",
      "      (depthwise_separable_conv_layer): Sequential(\n",
      "        (0): Conv2d(192, 192, kernel_size=(3, 3), stride=(1, 1), padding=(1, 1), groups=192)\n",
      "        (1): BatchNorm2d(192, eps=1e-05, momentum=0.1, affine=True, track_running_stats=True)\n",
      "        (2): ReLU6(inplace=True)\n",
      "      )\n",
      "      (linear_bottleneck_layer): Sequential(\n",
      "        (0): Conv2d(192, 32, kernel_size=(1, 1), stride=(1, 1))\n",
      "        (1): BatchNorm2d(32, eps=1e-05, momentum=0.1, affine=True, track_running_stats=True)\n",
      "      )\n",
      "    )\n",
      "  )\n",
      "  (layer_block_4): Sequential(\n",
      "    (0): InvertedResidualBlock(\n",
      "      (expansion_bottleneck_layer): Sequential(\n",
      "        (0): Conv2d(32, 192, kernel_size=(1, 1), stride=(1, 1))\n",
      "        (1): BatchNorm2d(192, eps=1e-05, momentum=0.1, affine=True, track_running_stats=True)\n",
      "        (2): ReLU6(inplace=True)\n",
      "      )\n",
      "      (depthwise_separable_conv_layer): Sequential(\n",
      "        (0): Conv2d(192, 192, kernel_size=(3, 3), stride=(2, 2), padding=(1, 1), groups=192)\n",
      "        (1): BatchNorm2d(192, eps=1e-05, momentum=0.1, affine=True, track_running_stats=True)\n",
      "        (2): ReLU6(inplace=True)\n",
      "      )\n",
      "      (linear_bottleneck_layer): Sequential(\n",
      "        (0): Conv2d(192, 64, kernel_size=(1, 1), stride=(1, 1))\n",
      "        (1): BatchNorm2d(64, eps=1e-05, momentum=0.1, affine=True, track_running_stats=True)\n",
      "      )\n",
      "    )\n",
      "    (1): InvertedResidualBlock(\n",
      "      (expansion_bottleneck_layer): Sequential(\n",
      "        (0): Conv2d(64, 384, kernel_size=(1, 1), stride=(1, 1))\n",
      "        (1): BatchNorm2d(384, eps=1e-05, momentum=0.1, affine=True, track_running_stats=True)\n",
      "        (2): ReLU6(inplace=True)\n",
      "      )\n",
      "      (depthwise_separable_conv_layer): Sequential(\n",
      "        (0): Conv2d(384, 384, kernel_size=(3, 3), stride=(1, 1), padding=(1, 1), groups=384)\n",
      "        (1): BatchNorm2d(384, eps=1e-05, momentum=0.1, affine=True, track_running_stats=True)\n",
      "        (2): ReLU6(inplace=True)\n",
      "      )\n",
      "      (linear_bottleneck_layer): Sequential(\n",
      "        (0): Conv2d(384, 64, kernel_size=(1, 1), stride=(1, 1))\n",
      "        (1): BatchNorm2d(64, eps=1e-05, momentum=0.1, affine=True, track_running_stats=True)\n",
      "      )\n",
      "    )\n",
      "    (2): InvertedResidualBlock(\n",
      "      (expansion_bottleneck_layer): Sequential(\n",
      "        (0): Conv2d(64, 384, kernel_size=(1, 1), stride=(1, 1))\n",
      "        (1): BatchNorm2d(384, eps=1e-05, momentum=0.1, affine=True, track_running_stats=True)\n",
      "        (2): ReLU6(inplace=True)\n",
      "      )\n",
      "      (depthwise_separable_conv_layer): Sequential(\n",
      "        (0): Conv2d(384, 384, kernel_size=(3, 3), stride=(1, 1), padding=(1, 1), groups=384)\n",
      "        (1): BatchNorm2d(384, eps=1e-05, momentum=0.1, affine=True, track_running_stats=True)\n",
      "        (2): ReLU6(inplace=True)\n",
      "      )\n",
      "      (linear_bottleneck_layer): Sequential(\n",
      "        (0): Conv2d(384, 64, kernel_size=(1, 1), stride=(1, 1))\n",
      "        (1): BatchNorm2d(64, eps=1e-05, momentum=0.1, affine=True, track_running_stats=True)\n",
      "      )\n",
      "    )\n",
      "    (3): InvertedResidualBlock(\n",
      "      (expansion_bottleneck_layer): Sequential(\n",
      "        (0): Conv2d(64, 384, kernel_size=(1, 1), stride=(1, 1))\n",
      "        (1): BatchNorm2d(384, eps=1e-05, momentum=0.1, affine=True, track_running_stats=True)\n",
      "        (2): ReLU6(inplace=True)\n",
      "      )\n",
      "      (depthwise_separable_conv_layer): Sequential(\n",
      "        (0): Conv2d(384, 384, kernel_size=(3, 3), stride=(1, 1), padding=(1, 1), groups=384)\n",
      "        (1): BatchNorm2d(384, eps=1e-05, momentum=0.1, affine=True, track_running_stats=True)\n",
      "        (2): ReLU6(inplace=True)\n",
      "      )\n",
      "      (linear_bottleneck_layer): Sequential(\n",
      "        (0): Conv2d(384, 64, kernel_size=(1, 1), stride=(1, 1))\n",
      "        (1): BatchNorm2d(64, eps=1e-05, momentum=0.1, affine=True, track_running_stats=True)\n",
      "      )\n",
      "    )\n",
      "  )\n",
      "  (layer_block_5): Sequential(\n",
      "    (0): InvertedResidualBlock(\n",
      "      (expansion_bottleneck_layer): Sequential(\n",
      "        (0): Conv2d(64, 384, kernel_size=(1, 1), stride=(1, 1))\n",
      "        (1): BatchNorm2d(384, eps=1e-05, momentum=0.1, affine=True, track_running_stats=True)\n",
      "        (2): ReLU6(inplace=True)\n",
      "      )\n",
      "      (depthwise_separable_conv_layer): Sequential(\n",
      "        (0): Conv2d(384, 384, kernel_size=(3, 3), stride=(1, 1), padding=(1, 1), groups=384)\n",
      "        (1): BatchNorm2d(384, eps=1e-05, momentum=0.1, affine=True, track_running_stats=True)\n",
      "        (2): ReLU6(inplace=True)\n",
      "      )\n",
      "      (linear_bottleneck_layer): Sequential(\n",
      "        (0): Conv2d(384, 96, kernel_size=(1, 1), stride=(1, 1))\n",
      "        (1): BatchNorm2d(96, eps=1e-05, momentum=0.1, affine=True, track_running_stats=True)\n",
      "      )\n",
      "    )\n",
      "    (1): InvertedResidualBlock(\n",
      "      (expansion_bottleneck_layer): Sequential(\n",
      "        (0): Conv2d(96, 576, kernel_size=(1, 1), stride=(1, 1))\n",
      "        (1): BatchNorm2d(576, eps=1e-05, momentum=0.1, affine=True, track_running_stats=True)\n",
      "        (2): ReLU6(inplace=True)\n",
      "      )\n",
      "      (depthwise_separable_conv_layer): Sequential(\n",
      "        (0): Conv2d(576, 576, kernel_size=(3, 3), stride=(1, 1), padding=(1, 1), groups=576)\n",
      "        (1): BatchNorm2d(576, eps=1e-05, momentum=0.1, affine=True, track_running_stats=True)\n",
      "        (2): ReLU6(inplace=True)\n",
      "      )\n",
      "      (linear_bottleneck_layer): Sequential(\n",
      "        (0): Conv2d(576, 96, kernel_size=(1, 1), stride=(1, 1))\n",
      "        (1): BatchNorm2d(96, eps=1e-05, momentum=0.1, affine=True, track_running_stats=True)\n",
      "      )\n",
      "    )\n",
      "    (2): InvertedResidualBlock(\n",
      "      (expansion_bottleneck_layer): Sequential(\n",
      "        (0): Conv2d(96, 576, kernel_size=(1, 1), stride=(1, 1))\n",
      "        (1): BatchNorm2d(576, eps=1e-05, momentum=0.1, affine=True, track_running_stats=True)\n",
      "        (2): ReLU6(inplace=True)\n",
      "      )\n",
      "      (depthwise_separable_conv_layer): Sequential(\n",
      "        (0): Conv2d(576, 576, kernel_size=(3, 3), stride=(1, 1), padding=(1, 1), groups=576)\n",
      "        (1): BatchNorm2d(576, eps=1e-05, momentum=0.1, affine=True, track_running_stats=True)\n",
      "        (2): ReLU6(inplace=True)\n",
      "      )\n",
      "      (linear_bottleneck_layer): Sequential(\n",
      "        (0): Conv2d(576, 96, kernel_size=(1, 1), stride=(1, 1))\n",
      "        (1): BatchNorm2d(96, eps=1e-05, momentum=0.1, affine=True, track_running_stats=True)\n",
      "      )\n",
      "    )\n",
      "  )\n",
      "  (layer_block_6): Sequential(\n",
      "    (0): InvertedResidualBlock(\n",
      "      (expansion_bottleneck_layer): Sequential(\n",
      "        (0): Conv2d(96, 576, kernel_size=(1, 1), stride=(1, 1))\n",
      "        (1): BatchNorm2d(576, eps=1e-05, momentum=0.1, affine=True, track_running_stats=True)\n",
      "        (2): ReLU6(inplace=True)\n",
      "      )\n",
      "      (depthwise_separable_conv_layer): Sequential(\n",
      "        (0): Conv2d(576, 576, kernel_size=(3, 3), stride=(2, 2), padding=(1, 1), groups=576)\n",
      "        (1): BatchNorm2d(576, eps=1e-05, momentum=0.1, affine=True, track_running_stats=True)\n",
      "        (2): ReLU6(inplace=True)\n",
      "      )\n",
      "      (linear_bottleneck_layer): Sequential(\n",
      "        (0): Conv2d(576, 160, kernel_size=(1, 1), stride=(1, 1))\n",
      "        (1): BatchNorm2d(160, eps=1e-05, momentum=0.1, affine=True, track_running_stats=True)\n",
      "      )\n",
      "    )\n",
      "    (1): InvertedResidualBlock(\n",
      "      (expansion_bottleneck_layer): Sequential(\n",
      "        (0): Conv2d(160, 960, kernel_size=(1, 1), stride=(1, 1))\n",
      "        (1): BatchNorm2d(960, eps=1e-05, momentum=0.1, affine=True, track_running_stats=True)\n",
      "        (2): ReLU6(inplace=True)\n",
      "      )\n",
      "      (depthwise_separable_conv_layer): Sequential(\n",
      "        (0): Conv2d(960, 960, kernel_size=(3, 3), stride=(1, 1), padding=(1, 1), groups=960)\n",
      "        (1): BatchNorm2d(960, eps=1e-05, momentum=0.1, affine=True, track_running_stats=True)\n",
      "        (2): ReLU6(inplace=True)\n",
      "      )\n",
      "      (linear_bottleneck_layer): Sequential(\n",
      "        (0): Conv2d(960, 160, kernel_size=(1, 1), stride=(1, 1))\n",
      "        (1): BatchNorm2d(160, eps=1e-05, momentum=0.1, affine=True, track_running_stats=True)\n",
      "      )\n",
      "    )\n",
      "    (2): InvertedResidualBlock(\n",
      "      (expansion_bottleneck_layer): Sequential(\n",
      "        (0): Conv2d(160, 960, kernel_size=(1, 1), stride=(1, 1))\n",
      "        (1): BatchNorm2d(960, eps=1e-05, momentum=0.1, affine=True, track_running_stats=True)\n",
      "        (2): ReLU6(inplace=True)\n",
      "      )\n",
      "      (depthwise_separable_conv_layer): Sequential(\n",
      "        (0): Conv2d(960, 960, kernel_size=(3, 3), stride=(1, 1), padding=(1, 1), groups=960)\n",
      "        (1): BatchNorm2d(960, eps=1e-05, momentum=0.1, affine=True, track_running_stats=True)\n",
      "        (2): ReLU6(inplace=True)\n",
      "      )\n",
      "      (linear_bottleneck_layer): Sequential(\n",
      "        (0): Conv2d(960, 160, kernel_size=(1, 1), stride=(1, 1))\n",
      "        (1): BatchNorm2d(160, eps=1e-05, momentum=0.1, affine=True, track_running_stats=True)\n",
      "      )\n",
      "    )\n",
      "  )\n",
      "  (layer_block_7): Sequential(\n",
      "    (0): InvertedResidualBlock(\n",
      "      (expansion_bottleneck_layer): Sequential(\n",
      "        (0): Conv2d(160, 960, kernel_size=(1, 1), stride=(1, 1))\n",
      "        (1): BatchNorm2d(960, eps=1e-05, momentum=0.1, affine=True, track_running_stats=True)\n",
      "        (2): ReLU6(inplace=True)\n",
      "      )\n",
      "      (depthwise_separable_conv_layer): Sequential(\n",
      "        (0): Conv2d(960, 960, kernel_size=(3, 3), stride=(1, 1), padding=(1, 1), groups=960)\n",
      "        (1): BatchNorm2d(960, eps=1e-05, momentum=0.1, affine=True, track_running_stats=True)\n",
      "        (2): ReLU6(inplace=True)\n",
      "      )\n",
      "      (linear_bottleneck_layer): Sequential(\n",
      "        (0): Conv2d(960, 320, kernel_size=(1, 1), stride=(1, 1))\n",
      "        (1): BatchNorm2d(320, eps=1e-05, momentum=0.1, affine=True, track_running_stats=True)\n",
      "      )\n",
      "    )\n",
      "  )\n",
      "  (final_conv_layer): Sequential(\n",
      "    (0): Conv2d(320, 1280, kernel_size=(1, 1), stride=(1, 1))\n",
      "    (1): BatchNorm2d(1280, eps=1e-05, momentum=0.1, affine=True, track_running_stats=True)\n",
      "    (2): ReLU6(inplace=True)\n",
      "  )\n",
      "  (avgpool_and_flatten): Sequential(\n",
      "    (0): AdaptiveAvgPool2d(output_size=1)\n",
      "    (1): Flatten(start_dim=1, end_dim=-1)\n",
      "  )\n",
      "  (classifier): Linear(in_features=1280, out_features=4, bias=True)\n",
      ")\n"
     ]
    }
   ],
   "execution_count": 22
  },
  {
   "metadata": {},
   "cell_type": "markdown",
   "source": "Add Model graph to tensorboard using a sample image batch",
   "id": "864e8f07a159b656"
  },
  {
   "metadata": {
    "ExecuteTime": {
     "end_time": "2025-09-23T18:06:09.858240Z",
     "start_time": "2025-09-23T18:06:02.676640Z"
    }
   },
   "cell_type": "code",
   "source": [
    "writer.add_graph(net, images)\n",
    "writer.close()"
   ],
   "id": "314ed05c8ecea0e0",
   "outputs": [],
   "execution_count": 23
  },
  {
   "metadata": {},
   "cell_type": "markdown",
   "source": "Device configuration",
   "id": "e25327a69c229f0d"
  },
  {
   "metadata": {
    "ExecuteTime": {
     "end_time": "2025-09-23T18:06:09.940457Z",
     "start_time": "2025-09-23T18:06:09.866499Z"
    }
   },
   "cell_type": "code",
   "source": [
    "device = torch.device('cuda' if torch.cuda.is_available() else 'mps' if torch.backends.mps.is_available() else 'cpu')\n",
    "net.to(device)\n",
    "print(f'Using device: {device}')"
   ],
   "id": "2b7b3e59f9eebf8a",
   "outputs": [
    {
     "name": "stdout",
     "output_type": "stream",
     "text": [
      "Using device: mps\n"
     ]
    }
   ],
   "execution_count": 24
  },
  {
   "metadata": {},
   "cell_type": "markdown",
   "source": "Loss function and optimizer",
   "id": "8e64b0500a6a67c2"
  },
  {
   "metadata": {
    "ExecuteTime": {
     "end_time": "2025-09-23T18:06:09.950791Z",
     "start_time": "2025-09-23T18:06:09.949167Z"
    }
   },
   "cell_type": "code",
   "source": [
    "criterion = nn.CrossEntropyLoss().to(device)\n",
    "optimizer = torch.optim.Adam(net.parameters(), lr=0.001, weight_decay=0.00004)"
   ],
   "id": "afc6cab3d3763e97",
   "outputs": [],
   "execution_count": 25
  },
  {
   "metadata": {},
   "cell_type": "markdown",
   "source": "Training each epoch function",
   "id": "ac41c99c4f9e44ed"
  },
  {
   "metadata": {
    "ExecuteTime": {
     "end_time": "2025-09-23T18:06:09.960464Z",
     "start_time": "2025-09-23T18:06:09.958497Z"
    }
   },
   "cell_type": "code",
   "source": [
    "def train_epoch(train_loader, epoch):\n",
    "    net.train()\n",
    "    running_loss = 0.0\n",
    "    tensorboard_loss = running_loss\n",
    "\n",
    "    for batch_idx, data in enumerate(train_loader, 0): #Get images and target values from the dataloader and give an index via enumerate\n",
    "        images, targets = data #data is a tuple of (images, targets)\n",
    "        images, targets = images.to(device), targets.to(device) #images and target values in batch to device\n",
    "        targets = torch.argmax(targets, dim=1) #Convert one-hot encoded targets to class indices for CrossEntropyLoss\n",
    "        optimizer.zero_grad() #Clear old gradients\n",
    "        outputs = net(images) #Models prediction for this batch\n",
    "        loss = criterion(outputs, targets) #Calcuate loss for this batch - CrossEntropyLoss expects class indices as targets and raw logits as model output\n",
    "        loss.backward() #Do backprop to get gradients\n",
    "        optimizer.step() #pdate weights via optimizer step\n",
    "\n",
    "        running_loss += loss.item() #Add the loss for this batch to the running loss\n",
    "        tensorboard_loss += loss.item() #Add the loss for this batch to the tensorboard loss\n",
    "\n",
    "        #Tensorboard logging\n",
    "        if batch_idx % 10 == 9:    # Log every 10 batches (every 320 images if batch size is 32)\n",
    "            writer.add_scalar('training loss',\n",
    "                              tensorboard_loss / 10, epoch * len(train_loader) + batch_idx) #Log the running loss to tensorboard\n",
    "\n",
    "        tensorboard_loss = 0.0 #This is separate to running loss, just for tensorboard logging otherwise the graph in the notebook would be very granular and hard to read\n",
    "    return running_loss / len(train_loader) #Average loss over the epoch"
   ],
   "id": "7374767e2d44a128",
   "outputs": [],
   "execution_count": 26
  },
  {
   "metadata": {},
   "cell_type": "markdown",
   "source": "Training loop",
   "id": "406f2581e4cd0e87"
  },
  {
   "metadata": {
    "jupyter": {
     "is_executing": true
    },
    "ExecuteTime": {
     "start_time": "2025-09-23T18:06:09.967947Z"
    }
   },
   "cell_type": "code",
   "source": [
    "num_epochs = 50\n",
    "loss_values = []\n",
    "val_loss_values = []\n",
    "for epoch in range(num_epochs):\n",
    "    train_loss = train_epoch(train_dataloader, epoch) #Train for one epoch\n",
    "    loss_values.append(train_loss)\n",
    "\n",
    "    #Validation\n",
    "    net.eval()\n",
    "    val_loss = 0.0\n",
    "\n",
    "    with torch.no_grad(): #No gradients needed for validation\n",
    "        for batch_idx, data in enumerate(val_loader, 0):\n",
    "            images, targets = data\n",
    "            images, targets = images.to(device), targets.to(device)\n",
    "            targets = torch.argmax(targets, dim=1) #Convert one-hot encoded targets to class indices for CrossEntropyLoss\n",
    "            outputs = net(images)\n",
    "            loss = criterion(outputs, targets)\n",
    "            val_loss += loss.item()\n",
    "    val_loss = val_loss / len(val_loader)\n",
    "    val_loss_values.append(val_loss)\n",
    "\n",
    "    print(f'Epoch {epoch+1}/{num_epochs}, Training Loss: {train_loss:.4f}, Validation Loss: {val_loss:.4f}')"
   ],
   "id": "d5636cebee8d181d",
   "outputs": [],
   "execution_count": null
  },
  {
   "metadata": {},
   "cell_type": "markdown",
   "source": "Accuracy functions",
   "id": "5bab8046fb328e3f"
  },
  {
   "metadata": {},
   "cell_type": "code",
   "outputs": [],
   "execution_count": null,
   "source": [
    "#Plot training and validation loss\n",
    "plt.figure(figsize=(10, 5))\n",
    "plt.plot(loss_values, label='Training Loss')\n",
    "plt.plot(val_loss_values, label='Validation Loss')\n",
    "plt.xlabel('Epochs')\n",
    "plt.ylabel('Loss')\n",
    "plt.title('Training and Validation Loss over Epochs')\n",
    "plt.legend()\n",
    "plt.show()"
   ],
   "id": "d882e9ae9bae4657"
  },
  {
   "metadata": {},
   "cell_type": "code",
   "outputs": [],
   "execution_count": null,
   "source": [
    "#Train set accuracy\n",
    "net.eval()\n",
    "from torcheval.metrics import MulticlassAccuracy\n",
    "metric = MulticlassAccuracy()\n",
    "with torch.no_grad(): # No need to compute gradients during evaluation because we are not training\n",
    "    for data in train_dataloader: #get batches from train loader\n",
    "        images, labels = data # Get a batch of data broken into images and labels\n",
    "        images, labels = images.to(device), torch.argmax(labels, dim=1).to(device) # Convert one-hot encoded labels to class indices\n",
    "        outputs = net(images) # Forward pass (forward propagation)\n",
    "        prediction = torch.argmax(outputs, dim=1)\n",
    "        metric.update(prediction, labels) #add batch predictions and labels to metric\n",
    "\n",
    "accuracy = metric.compute()\n",
    "print(f\"train set accuracy: {accuracy:.4f}\")\n"
   ],
   "id": "10816d60a3115c24"
  },
  {
   "metadata": {},
   "cell_type": "code",
   "outputs": [],
   "execution_count": null,
   "source": [
    "#test set accuracy\n",
    "net.eval()\n",
    "metric = MulticlassAccuracy()\n",
    "predictions = []\n",
    "labels_list = []\n",
    "with torch.no_grad(): # No need to compute gradients during evaluation because we are not training\n",
    "    for data in test_loader: #get batches from test loader\n",
    "        images, labels = data # Get a batch of data broken into images and labels\n",
    "        images, labels = images.to(device), torch.argmax(labels, dim=1).to(device) # Convert one-hot encoded labels to class indices\n",
    "        outputs = net(images) # Forward pass\n",
    "        prediction = torch.argmax(outputs, dim=1)\n",
    "        predictions.append(prediction)\n",
    "        labels_list.append(labels)\n",
    "        metric.update(prediction, labels) #add batch predictions and labels to metric\n",
    "\n",
    "accuracy = metric.compute()\n",
    "print(f\"test set accuracy: {accuracy:.4f}\")"
   ],
   "id": "dc2c61722b8897b3"
  },
  {
   "metadata": {},
   "cell_type": "markdown",
   "source": "Preparing data for confusion matrix by concatenating all batch predictions and labels into single tensors",
   "id": "3fb846d202589c57"
  },
  {
   "metadata": {},
   "cell_type": "code",
   "outputs": [],
   "execution_count": null,
   "source": [
    "all_predictions = torch.cat(predictions, dim=0) # Concatenate all batch predictions into a single tensor\n",
    "all_labels = torch.cat(labels_list, dim=0) # Concatenate all batch labels into a single tensor\n",
    "all_predictions_cpu_tensor = all_predictions.cpu().numpy() # Move tensor to CPU and convert to NumPy array\n",
    "all_labels_cpu_tensor = all_labels.cpu().numpy() # Move tensor to CPU and convert to NumPy array"
   ],
   "id": "f48b366e2507698a"
  },
  {
   "metadata": {},
   "cell_type": "code",
   "outputs": [],
   "execution_count": null,
   "source": [
    "display_labels = test_dataframe.columns[1:]\n",
    "from sklearn.metrics import ConfusionMatrixDisplay, confusion_matrix\n",
    "\n",
    "cm = confusion_matrix(all_labels_cpu_tensor, all_predictions_cpu_tensor, labels=np.arange(len(display_labels)))\n",
    "\n",
    "print(cm.shape)\n",
    "\n",
    "matrix = ConfusionMatrixDisplay(confusion_matrix=cm, display_labels=display_labels)\n",
    "\n",
    "_, ax = plt.subplots(figsize=(10, 10))  # Create a figure and axis for the confusion matrix plot (much larger than default\n",
    "matrix.plot(cmap='Blues', values_format='d', ax=ax, xticks_rotation=90)  # Plot the confusion matrix with blue color map and integer format"
   ],
   "id": "19bcd879308601f5"
  }
 ],
 "metadata": {
  "kernelspec": {
   "display_name": "Python 3",
   "language": "python",
   "name": "python3"
  },
  "language_info": {
   "codemirror_mode": {
    "name": "ipython",
    "version": 2
   },
   "file_extension": ".py",
   "mimetype": "text/x-python",
   "name": "python",
   "nbconvert_exporter": "python",
   "pygments_lexer": "ipython2",
   "version": "2.7.6"
  }
 },
 "nbformat": 4,
 "nbformat_minor": 5
}
